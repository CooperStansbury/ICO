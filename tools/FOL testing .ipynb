{
 "cells": [
  {
   "cell_type": "code",
   "execution_count": 22,
   "metadata": {},
   "outputs": [],
   "source": [
    "import owlready2 as ow\n",
    "import pandas"
   ]
  },
  {
   "cell_type": "code",
   "execution_count": 23,
   "metadata": {},
   "outputs": [],
   "source": [
    "file = 'file://ico.owl'\n",
    "\n",
    "onto = ow.get_ontology(file).load()"
   ]
  },
  {
   "cell_type": "code",
   "execution_count": 24,
   "metadata": {},
   "outputs": [
    {
     "name": "stdout",
     "output_type": "stream",
     "text": [
      "ICO_0000001\n",
      "obo.ICO_0000213 | obo.ICO_0000214\n",
      "ICO_0000015\n",
      "obo.ICO_0000001 & None.some(obo.ICO_0000222)\n",
      "ICO_0000084\n",
      "obo.OBI_0000810 & None.some(obo.ICO_0000197)\n",
      "ICO_0000196\n",
      "obo.ICO_0000195 & None.some(obo.OBI_0000810)\n",
      "ICO_0000204\n",
      "obo.ICO_0000220 & obo.ICO_0000225.some(obo.ICO_0000197)\n",
      "ICO_0000205\n",
      "None & None.some(ico.ICO_0000223 & obo.BFO_0000054.some(obo.ICO_0000196))\n",
      "ICO_0000220\n",
      "None | obo.OBI_0000245\n"
     ]
    }
   ],
   "source": [
    "for cl in onto.classes():\n",
    "    if cl.equivalent_to != []:\n",
    "        print(cl.name)\n",
    "        print(cl.equivalent_to[0])"
   ]
  },
  {
   "cell_type": "code",
   "execution_count": 25,
   "metadata": {},
   "outputs": [
    {
     "name": "stdout",
     "output_type": "stream",
     "text": [
      "ICO_0000001\n",
      "[obo.ICO_0000213 | obo.ICO_0000214]\n",
      "['informed consent form']\n"
     ]
    }
   ],
   "source": [
    "test = onto.search_one(iri='*ICO_0000001')\n",
    "print(test.name)\n",
    "print(test.equivalent_to)\n",
    "print(test.label)"
   ]
  },
  {
   "cell_type": "code",
   "execution_count": null,
   "metadata": {},
   "outputs": [],
   "source": []
  },
  {
   "cell_type": "code",
   "execution_count": null,
   "metadata": {},
   "outputs": [],
   "source": []
  }
 ],
 "metadata": {
  "kernelspec": {
   "display_name": "Python 3",
   "language": "python",
   "name": "python3"
  },
  "language_info": {
   "codemirror_mode": {
    "name": "ipython",
    "version": 3
   },
   "file_extension": ".py",
   "mimetype": "text/x-python",
   "name": "python",
   "nbconvert_exporter": "python",
   "pygments_lexer": "ipython3",
   "version": "3.6.5"
  }
 },
 "nbformat": 4,
 "nbformat_minor": 2
}
